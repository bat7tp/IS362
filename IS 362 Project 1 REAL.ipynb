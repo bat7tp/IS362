{
 "cells": [
  {
   "cell_type": "code",
   "execution_count": 12,
   "metadata": {},
   "outputs": [
    {
     "name": "stdout",
     "output_type": "stream",
     "text": [
      "  Unnamed: 0 Unnamed: 1  Los Angeles  Phoenix  San Diege  San Francisco  \\\n",
      "0     Alaska    On Time        497.0    221.0      212.0          503.0   \n",
      "1        NaN    Delayed         62.0     12.0       20.0          102.0   \n",
      "2        NaN        NaN          NaN      NaN        NaN            NaN   \n",
      "3    AM West    On Time        694.0   4840.0      383.0          320.0   \n",
      "4        NaN    Delayed        117.0    415.0       65.0          129.0   \n",
      "\n",
      "   Seattle  \n",
      "0   1841.0  \n",
      "1    305.0  \n",
      "2      NaN  \n",
      "3    201.0  \n",
      "4     61.0  \n",
      "Los Angeles       62\n",
      "Phoenix           12\n",
      "San Diege         20\n",
      "San Francisco    102\n",
      "Seattle          305\n",
      "Name: 1, dtype: object\n",
      "Los Angeles      117\n",
      "Phoenix          415\n",
      "San Diege         65\n",
      "San Francisco    129\n",
      "Seattle           61\n",
      "Name: 4, dtype: object\n",
      "ALaska flights delays total to:  501.0\n",
      "AM West flights delays total to:  787.0\n"
     ]
    }
   ],
   "source": [
    "import pandas as pd\n",
    "\n",
    "df = pd.read_csv (r'C:\\Users\\batsh\\Documents\\CUNY\\IS362\\Project1 CSV.csv') \n",
    "print (df)\n",
    "\n",
    "'''Select the data from Alaska Airlines delays'''\n",
    "\n",
    "Alaska_Delays = df.loc[1,\"Los Angeles\":\"Seattle\"]\n",
    "\n",
    "'''Select the data from AM West delays'''\n",
    "\n",
    "AM_Delays = df.loc[4,\"Los Angeles\":\"Seattle\"]\n",
    "\n",
    "print (Alaska_Delays)\n",
    "print (AM_Delays)\n",
    "\n",
    "'''Add the delay values up for each airline'''\n",
    "\n",
    "totAlaskaDelays = Alaska_Delays.sum()\n",
    "totAmDelays = AM_Delays.sum()\n",
    "\n",
    "print (\"ALaska flights delays total to: \" , totAlaskaDelays)\n",
    "print (\"AM West flights delays total to: \" , totAmDelays)\n",
    "\n",
    "#Since the total delays number is greater for AM West (787 is bigger than 501), it can be conluded that AM West had more arrival delays in terms of numerical value. Further calculations could be done to see which airline proportionately had a worse amount of delayed flights overall"
   ]
  },
  {
   "cell_type": "code",
   "execution_count": null,
   "metadata": {},
   "outputs": [],
   "source": []
  }
 ],
 "metadata": {
  "kernelspec": {
   "display_name": "Python 3",
   "language": "python",
   "name": "python3"
  },
  "language_info": {
   "codemirror_mode": {
    "name": "ipython",
    "version": 3
   },
   "file_extension": ".py",
   "mimetype": "text/x-python",
   "name": "python",
   "nbconvert_exporter": "python",
   "pygments_lexer": "ipython3",
   "version": "3.8.5"
  }
 },
 "nbformat": 4,
 "nbformat_minor": 4
}
