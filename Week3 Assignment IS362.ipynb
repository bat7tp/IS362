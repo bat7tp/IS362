{
 "cells": [
  {
   "cell_type": "code",
   "execution_count": 10,
   "metadata": {},
   "outputs": [
    {
     "name": "stdout",
     "output_type": "stream",
     "text": [
      "How many miles did you bike today? 4\n",
      "['4']\n",
      "How many miles did you bike today? 55\n",
      "['4', '55']\n",
      "How many miles did you bike today? 44\n",
      "['4', '55', '44']\n",
      "How many miles did you bike today? 3\n",
      "['4', '55', '44', '3']\n",
      "How many miles did you bike today? 2\n",
      "['4', '55', '44', '3', '2']\n",
      "0     4\n",
      "1    55\n",
      "2    44\n",
      "3     3\n",
      "4     2\n",
      "dtype: object\n"
     ]
    },
    {
     "data": {
      "text/plain": [
       "108"
      ]
     },
     "execution_count": 10,
     "metadata": {},
     "output_type": "execute_result"
    }
   ],
   "source": [
    "#bring in Pandas and NumPy\n",
    "import numpy as np\n",
    "import pandas as pd\n",
    "\n",
    "#Suppose you have ridden a bicycle from New York City to Key West, Florida.  \n",
    "# Your bicycle odometer shows the total miles,\n",
    "# which you have dutifully logged at the end of each day with paper and pencil. \n",
    "# Your first two entries might be 55 and 120, \n",
    "# indicating that you rode your bike 55 miles on day 1 and 65 miles on day 2. \n",
    "# Your task is to create a pandas Series object \n",
    "# that holds the cumulative miles at the end of each day, \n",
    "# then use your Python skills to show the total miles that you rode each day.  \n",
    "# Consider how you should best present this information in a Jupyter notebook.  \n",
    "# You should save your Jupyter Notebook to your GitHub repository, \n",
    "# and provide a link in your assignment submission.\n",
    "\n",
    "mile_values = []\n",
    "\n",
    "#create loop to add five daily user inputs to the list\n",
    "for i in range(5):\n",
    "    biked_today = input(\"How many miles did you bike today? \")\n",
    "    mile_values.append(biked_today)\n",
    "    \n",
    "    print(mile_values)\n",
    "    \n",
    "#create a pandas series from the list\n",
    "miles_Ser = pd.Series(mile_values)\n",
    "print(miles_Ser)\n",
    "                \n",
    "np_array_miles = np.array([mile_values])\n",
    "np_sum_miles = np_array_miles.astype(int)\n",
    "np.sum(np_sum_miles)\n",
    "\n",
    " "
   ]
  },
  {
   "cell_type": "code",
   "execution_count": null,
   "metadata": {},
   "outputs": [],
   "source": []
  },
  {
   "cell_type": "code",
   "execution_count": null,
   "metadata": {},
   "outputs": [],
   "source": []
  }
 ],
 "metadata": {
  "kernelspec": {
   "display_name": "Python 3",
   "language": "python",
   "name": "python3"
  },
  "language_info": {
   "codemirror_mode": {
    "name": "ipython",
    "version": 3
   },
   "file_extension": ".py",
   "mimetype": "text/x-python",
   "name": "python",
   "nbconvert_exporter": "python",
   "pygments_lexer": "ipython3",
   "version": "3.8.5"
  }
 },
 "nbformat": 4,
 "nbformat_minor": 4
}
